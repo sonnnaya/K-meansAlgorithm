{
  "nbformat": 4,
  "nbformat_minor": 0,
  "metadata": {
    "colab": {
      "name": "K-meansClustering.ipynb",
      "provenance": [],
      "collapsed_sections": [],
      "authorship_tag": "ABX9TyNPxegB5lpzAYR43ge98HTy",
      "include_colab_link": true
    },
    "kernelspec": {
      "name": "python3",
      "display_name": "Python 3"
    }
  },
  "cells": [
    {
      "cell_type": "markdown",
      "metadata": {
        "id": "view-in-github",
        "colab_type": "text"
      },
      "source": [
        "<a href=\"https://colab.research.google.com/github/sonnnaya/K-meansAlgorithm/blob/main/K-meansClustering.ipynb\" target=\"_parent\"><img src=\"https://colab.research.google.com/assets/colab-badge.svg\" alt=\"Open In Colab\"/></a>"
      ]
    },
    {
      "cell_type": "markdown",
      "metadata": {
        "id": "vNJRQDBcIYAW"
      },
      "source": [
        "# Clustering by K-means algorithm\r\n",
        "## Difference between clustering and classification\r\n",
        "In the previous topics ([Classification by minimum distance](https://github.com/sonnnaya/MinimumDistanceClassification/blob/master/MinimumDistanceClassification.ipynb) and \r\n",
        "[Classification by using decisive functions and diving hypersurfaces](https://github.com/sonnnaya/DecisiveAndDividingFunctions/blob/main/DecisiveAndDividingFunctions.ipynb)) we considered classification methods. It means we used a set of images with an predefined classes - we knew their amount  and the standards they are described with.\r\n",
        "\r\n",
        "On the other hand, the clustering task is to identify similarities between images and to unite such images into groups called clusters. So, in other words the main difference is the fact:\r\n",
        "\r\n",
        "> Classification $\\rightarrow$ supervised learning\r\n",
        "\r\n",
        "> Clustering $\\rightarrow$ unsupervised learning\r\n",
        "\r\n",
        "\r\n",
        "## Clustering introduction\r\n",
        "In the formal definition of a cluster on the set of source data, the following concepts are used:\r\n",
        "\r\n",
        "*   Measure of similarity\r\n",
        "\r\n",
        "This is a measure describing how similar images are.\r\n",
        "\r\n",
        "*   Clustering criterion\r\n",
        "\r\n",
        "The mathematical approach uses procedures to minimize (or maximize) the selected quality criterion, which ensure the correctness of clustering.\r\n",
        "\r\n",
        "*   Clustering algorithm\r\n",
        "\r\n",
        "A set of procedures that operate with the selected measure of similarity and are determined by the appropriate approach to solving the problem of clustering\r\n",
        "\r\n",
        "\r\n",
        "\r\n",
        "\r\n"
      ]
    },
    {
      "cell_type": "markdown",
      "metadata": {
        "id": "hLzdlPB4VKsd"
      },
      "source": [
        "# K-means algorithm\r\n",
        "## Parameters\r\n",
        "Input data - a set of n-dimensional images:\r\n",
        "$$\r\n",
        "X=\\{\\overline{x}_{1}, \\overline{x}_{2},...,\\overline{x}_{N}\\},\r\n",
        "$$\r\n",
        "where $\\overline{x}_{i}=[x_{1},x_{2},...,x_{n}]^{T}$\r\n",
        "\r\n",
        "Randomly selected cluster centers (let's take the first $k$ images from a given set $X$):\r\n",
        "$$\r\n",
        "\\overline{z}^{(1)}_{1},\\overline{z}^{(1)}_{2},...,\\overline{z}^{(1)}_{k}\r\n",
        "$$\r\n",
        "\r\n",
        "---\r\n",
        "\r\n",
        "\r\n",
        "Notice index $^{(1)}$ indicates the iteration number.\r\n",
        "\r\n",
        "---\r\n",
        "\r\n",
        "## Measure of similarity\r\n",
        "As a measure of similarity we take the Euclidean distance:\r\n",
        "$$\r\n",
        "D_{i}=|\\overline{x}-\\overline{z}_{i}|=\\sqrt{\\sum_{j=1}^{n} (x_{j}-z_{ij})^{2}}\r\n",
        "$$\r\n",
        "\r\n",
        "## Clustering (quality) criterion\r\n",
        "We are going to use the sum of the sum of squared distances from each cluster's images to its center as a quality criterion:\r\n",
        "$$\r\n",
        "I=\\sum_{j=1}^{K}\\sum_{\\overline{x}\\ \\in\\ S_{j}}|\\overline{x}-\\overline{m}_{j}|^{2},\r\n",
        "$$\r\n",
        "where:\r\n",
        "\r\n",
        "$K -$ number of clusters,\r\n",
        "\r\n",
        "$S_{j}-j$-cluster images,\r\n",
        "\r\n",
        "$\\overline{m}_{j}=\\frac{1}{N_{j}}\\sum_{\\overline{x}\\ \\in\\ S_{j}}\\overline{x}\\ -$  sample mean vector for $j$-cluster images,\r\n",
        "\r\n",
        "$N_{j}-$ number of $j$-cluster images.\r\n",
        "\r\n",
        "So, by minimizing this criterion we will get more correct clusters.\r\n",
        "\r\n"
      ]
    },
    {
      "cell_type": "code",
      "metadata": {
        "id": "E8YA44TibRLe"
      },
      "source": [
        "from typing import List\r\n",
        "import numpy as np\r\n",
        "\r\n",
        "\r\n",
        "def get_euclid(image1: np.ndarray, image2: np.ndarray) -> float:\r\n",
        "    return np.linalg.norm(np.array(image1) - np.array(image2))\r\n",
        "\r\n",
        "\r\n",
        "class Cluster:\r\n",
        "    def __init__(self, standard: np.ndarray):\r\n",
        "        self.standard: np.ndarray = np.array(standard)\r\n",
        "        self.images: List[np.ndarray] = []\r\n",
        "\r\n",
        "    def get_distance(self, image: np.ndarray) -> float:\r\n",
        "        return get_euclid(image, self.standard)\r\n",
        "\r\n",
        "    def get_mean(self) -> np.ndarray:\r\n",
        "        return np.mean(np.array(self.images), axis=0)\r\n",
        "\r\n",
        "    def get_deviation(self) -> float:\r\n",
        "        return sum(map(lambda x: get_euclid(x, self.standard) ** 2, self.images))\r\n",
        "\r\n",
        "    def add(self, image: np.ndarray) -> None:\r\n",
        "        self.images.append(np.array(image))\r\n"
      ],
      "execution_count": 3,
      "outputs": []
    },
    {
      "cell_type": "markdown",
      "metadata": {
        "id": "UQYHqwzBbQLu"
      },
      "source": [
        "## Algorithm\r\n",
        "\r\n",
        "\r\n",
        "1) By the [method of the minimum distance](https://github.com/sonnnaya/MinimumDistanceClassification/blob/master/MinimumDistanceClassification.ipynb) the images are distributed in clusters:\r\n",
        "\r\n",
        "Image $\\overline{x}\\in S_{i}$ if $|\\overline{x}-\\overline{z}_{i}|=min(|\\overline{x}-\\overline{z}_{1}|, |\\overline{x}-\\overline{z}_{2}|, ..., |\\overline{x}-\\overline{z}_{K}|)$ \r\n",
        "\r\n",
        "2) To minimize quality criterion of each cluster \r\n",
        "\r\n",
        "$$\r\n",
        "I^{(1)}(\\overline{z}^{(1)}_{j})=\\sum_{\\overline{x}\\ \\in\\ S_{j}}|\\overline{x}-\\overline{z}^{(1)}_{j}|^{2}\r\n",
        "$$ \r\n",
        "we need to find new centers of each clusters as their sample means:\r\n",
        "  $$\r\n",
        "\\overline{z}^{(2)}_{j}=\\frac{1}{N_{j}}\\sum_{\\overline{x}\\ \\in\\ S_{j}}\\overline{x},\\ j=\\overline{1,k}\r\n",
        "  $$\r\n",
        "3) We check the condition whether the new centers of the clusters are equal to the previous ones:\r\n",
        "$$\r\n",
        "\\overline{z}^{(2)}_{j}-\\overline{z}^{(1)}_{j}=0,\\ j=\\overline{1,k}\r\n",
        "$$ \r\n",
        "*   If the equation above is $True \\rightarrow$ the clustering process is over.\r\n",
        "\r\n",
        "*   Else (equation is $False$) $\\rightarrow$ begin a new iteration from point #1 using found centers $\\overline{z}^{(2)}_{j}$."
      ]
    },
    {
      "cell_type": "code",
      "metadata": {
        "id": "G-JNanGJbtxc"
      },
      "source": [
        "def define_image(clusters: List[Cluster], image: np.ndarray) -> None:\r\n",
        "    distances = [cluster.get_distance(image) for cluster in clusters]\r\n",
        "    minimum = min(distances)\r\n",
        "    index = distances.index(minimum)\r\n",
        "    clusters[index].add(image)\r\n",
        "\r\n",
        "\r\n",
        "def get_clustered(images: List[np.ndarray], standards: List[np.ndarray]) -> List[Cluster]:\r\n",
        "    clusters = [Cluster(standard) for standard in standards]\r\n",
        "\r\n",
        "    for image in images:\r\n",
        "        define_image(clusters, image)\r\n",
        "\r\n",
        "    return clusters\r\n",
        "\r\n",
        "\r\n",
        "def is_equals(previous: List[np.ndarray], current: List[np.ndarray]) -> bool:\r\n",
        "    return np.allclose(np.array(previous), np.array(current))\r\n",
        "\r\n",
        "\r\n",
        "def k_mean(images: List[np.ndarray], standards: List[np.ndarray]) -> List[Cluster]:\r\n",
        "    clusters = get_clustered(images, standards)\r\n",
        "    standards = [cluster.standard for cluster in clusters]\r\n",
        "\r\n",
        "    while True:\r\n",
        "        means = [cluster.get_mean() for cluster in clusters]\r\n",
        "\r\n",
        "        if is_equals(standards, means):\r\n",
        "            break\r\n",
        "\r\n",
        "        standards = means\r\n",
        "        clusters = get_clustered(images, standards)\r\n",
        "\r\n",
        "    return clusters"
      ],
      "execution_count": 8,
      "outputs": []
    },
    {
      "cell_type": "markdown",
      "metadata": {
        "id": "2-zKqICOb1zj"
      },
      "source": [
        "# Testing"
      ]
    },
    {
      "cell_type": "code",
      "metadata": {
        "colab": {
          "resources": {
            "http://localhost:8080/nbextensions/google.colab/files.js": {
              "data": "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",
              "ok": true,
              "headers": [
                [
                  "content-type",
                  "application/javascript"
                ]
              ],
              "status": 200,
              "status_text": ""
            }
          },
          "base_uri": "https://localhost:8080/",
          "height": 73
        },
        "id": "Pkt9FBnUb4NY",
        "outputId": "cb7b054f-ce67-4398-d3ea-d0fde65e8240"
      },
      "source": [
        "from google.colab import files \r\n",
        "\r\n",
        "  \r\n",
        "uploaded = files.upload()"
      ],
      "execution_count": 5,
      "outputs": [
        {
          "output_type": "display_data",
          "data": {
            "text/html": [
              "\n",
              "     <input type=\"file\" id=\"files-df4e3a8f-2fde-4436-a8c7-3c6620f15465\" name=\"files[]\" multiple disabled\n",
              "        style=\"border:none\" />\n",
              "     <output id=\"result-df4e3a8f-2fde-4436-a8c7-3c6620f15465\">\n",
              "      Upload widget is only available when the cell has been executed in the\n",
              "      current browser session. Please rerun this cell to enable.\n",
              "      </output>\n",
              "      <script src=\"/nbextensions/google.colab/files.js\"></script> "
            ],
            "text/plain": [
              "<IPython.core.display.HTML object>"
            ]
          },
          "metadata": {
            "tags": []
          }
        },
        {
          "output_type": "stream",
          "text": [
            "Saving data_test.csv to data_test.csv\n"
          ],
          "name": "stdout"
        }
      ]
    },
    {
      "cell_type": "code",
      "metadata": {
        "id": "wxtY0nUYcByf"
      },
      "source": [
        "from numpy import genfromtxt\r\n",
        "\r\n",
        "\r\n",
        "images_ = genfromtxt('data_test.csv', delimiter=',')\r\n",
        "standards_ = images_[0:3]"
      ],
      "execution_count": 6,
      "outputs": []
    },
    {
      "cell_type": "code",
      "metadata": {
        "colab": {
          "base_uri": "https://localhost:8080/"
        },
        "id": "H9ykeEmGcGpk",
        "outputId": "e729e19c-45d9-46d4-bd89-876d62b49c76"
      },
      "source": [
        "clusters_ = k_mean(images_, standards_)\r\n",
        "\r\n",
        "print(f'K-means result:')\r\n",
        "for i, cluster in enumerate(clusters_):\r\n",
        "    print(f'Cluster {i + 1}: {[image.tolist() for image in cluster.images]}')"
      ],
      "execution_count": 11,
      "outputs": [
        {
          "output_type": "stream",
          "text": [
            "K-means result:\n",
            "Cluster 1: [[0.0, 0.0], [1.0, 0.0], [0.0, 1.0], [1.0, 1.0], [2.0, 1.0], [1.0, 2.0], [3.0, 2.0]]\n",
            "Cluster 2: [[6.0, 6.0], [7.0, 6.0], [8.0, 6.0], [7.0, 7.0], [8.0, 8.0], [9.0, 9.0]]\n",
            "Cluster 3: [[1.0, 7.0], [0.0, 7.0], [0.0, 8.0], [1.0, 8.0], [0.0, 9.0], [2.0, 8.0], [2.0, 9.0]]\n"
          ],
          "name": "stdout"
        }
      ]
    },
    {
      "cell_type": "markdown",
      "metadata": {
        "id": "7YU0wFLCcWAw"
      },
      "source": [
        "# Visualization"
      ]
    },
    {
      "cell_type": "code",
      "metadata": {
        "colab": {
          "base_uri": "https://localhost:8080/",
          "height": 265
        },
        "id": "mrCzJCfQcfCo",
        "outputId": "a5c59119-1b3a-46c0-dbbd-919d83d604d4"
      },
      "source": [
        "import matplotlib.pyplot as plt\r\n",
        "\r\n",
        "\r\n",
        "image_clusters = [cluster.images for cluster in clusters_]\r\n",
        "\r\n",
        "x_es = [[image[0] for image in images] for images in image_clusters]\r\n",
        "y_es = [[image[1] for image in images] for images in image_clusters]\r\n",
        "\r\n",
        "names = [' z' + str(i + 1) for i in range(len(image_clusters))]\r\n",
        "\r\n",
        "standards = [cluster.standard for cluster in clusters_]\r\n",
        "\r\n",
        "x_s = [standard[0] for standard in standards]\r\n",
        "y_s = [standard[1] for standard in standards]\r\n",
        "\r\n",
        "for i in range(len(x_es)):\r\n",
        "    plt.scatter(x_es[i], y_es[i])\r\n",
        "\r\n",
        "for i, txt in enumerate(names):\r\n",
        "    for j in range(len(x_es[i])):\r\n",
        "        plt.annotate(txt, (x_es[i][j], y_es[i][j]))\r\n",
        "\r\n",
        "for i in range(len(x_s)):\r\n",
        "    plt.scatter(x_s[i], y_s[i], s=10, marker='*')\r\n",
        "\r\n",
        "plt.show()\r\n"
      ],
      "execution_count": 12,
      "outputs": [
        {
          "output_type": "display_data",
          "data": {
            "image/png": "[encoded data removed]",
            "text/plain": [
              "<Figure size 432x288 with 1 Axes>"
            ]
          },
          "metadata": {
            "tags": [],
            "needs_background": "light"
          }
        }
      ]
    },
    {
      "cell_type": "markdown",
      "metadata": {
        "id": "G4kTtOgdcken"
      },
      "source": [
        "# Observation of criterion change\r\n",
        "As it was mentioned above on every iteration we try to minimize the quality criterion:\r\n",
        "$$\r\n",
        "I=\\sum_{j=1}^{K}\\sum_{\\overline{x}\\ \\in\\ S_{j}}|\\overline{x}-\\overline{m}_{j}|^{2},\r\n",
        "$$\r\n",
        "So, we try to reach it by minimizing the sum of squared distances from each cluster's images to its center:\r\n",
        "$$\r\n",
        "I(\\overline{z}_{j})=\\sum_{\\overline{x}\\ \\in\\ S_{j}}|\\overline{x}-\\overline{z}_{j}|^{2}\r\n",
        "$$ \r\n",
        "Let's have a look on how these sums change on every iteration. So, we add some lines to k-mean function of printing these values."
      ]
    },
    {
      "cell_type": "code",
      "metadata": {
        "id": "yFR_l-Cvwots"
      },
      "source": [
        "def k_mean(images: List[np.ndarray], standards: List[np.ndarray]) -> List[Cluster]:\r\n",
        "    clusters = get_clustered(images, standards)\r\n",
        "    standards = [cluster.standard for cluster in clusters]\r\n",
        "\r\n",
        "    while True:\r\n",
        "        means = [cluster.get_mean() for cluster in clusters]\r\n",
        "\r\n",
        "        for i, cluster in enumerate(clusters):\r\n",
        "            print(f'Cluster {i + 1}: {cluster.get_deviation()}')\r\n",
        "        print(f'Total sum {sum(map(lambda x: x.get_deviation(), clusters))}\\n-----------')\r\n",
        "\r\n",
        "        if is_equals(standards, means):\r\n",
        "            break\r\n",
        "\r\n",
        "        standards = means\r\n",
        "        clusters = get_clustered(images, standards)\r\n",
        "\r\n",
        "    return clusters"
      ],
      "execution_count": 14,
      "outputs": []
    },
    {
      "cell_type": "markdown",
      "metadata": {
        "id": "EfGI0-eAxaPW"
      },
      "source": [
        "Let's check the result:\r\n"
      ]
    },
    {
      "cell_type": "code",
      "metadata": {
        "colab": {
          "base_uri": "https://localhost:8080/"
        },
        "id": "tyfUxIQ_xgj9",
        "outputId": "21c79d13-0b4c-447a-9d37-2431685ff708"
      },
      "source": [
        "clusters_ = k_mean(images_, standards_)"
      ],
      "execution_count": 16,
      "outputs": [
        {
          "output_type": "stream",
          "text": [
            "Cluster 1: 0.0\n",
            "Cluster 2: 572.0\n",
            "Cluster 3: 359.0\n",
            "Total sum 931.0\n",
            "-----------\n",
            "Cluster 1: 14.0\n",
            "Cluster 2: 91.4\n",
            "Cluster 3: 23.506172839506174\n",
            "Total sum 128.90617283950618\n",
            "-----------\n",
            "Cluster 1: 11.72222222222222\n",
            "Cluster 2: 19.040816326530614\n",
            "Cluster 3: 8.857142857142856\n",
            "Total sum 39.620181405895686\n",
            "-----------\n",
            "Cluster 1: 10.857142857142858\n",
            "Cluster 2: 13.5\n",
            "Cluster 3: 8.857142857142856\n",
            "Total sum 33.214285714285715\n",
            "-----------\n"
          ],
          "name": "stdout"
        }
      ]
    },
    {
      "cell_type": "markdown",
      "metadata": {
        "id": "oRDvdzk-xm14"
      },
      "source": [
        "# Parameters influence on results\r\n",
        "Obviously, the result of clustering depends on the value and number of selected cluster centers, the sequence of image viewing and geometric characteristics of the data."
      ]
    },
    {
      "cell_type": "code",
      "metadata": {
        "colab": {
          "base_uri": "https://localhost:8080/"
        },
        "id": "B6utnNzg0MtL",
        "outputId": "1c7e8b66-7ac2-45d4-97ac-da2ec25178c1"
      },
      "source": [
        "standards_ = images_[0:2]\r\n",
        "clusters_ = k_mean(images_, standards_)\r\n",
        "\r\n",
        "print(f'K-means result:')\r\n",
        "for i, cluster in enumerate(clusters_):\r\n",
        "    print(f'Cluster {i + 1}: {[image.tolist() for image in cluster.images]}')\r\n"
      ],
      "execution_count": 17,
      "outputs": [
        {
          "output_type": "stream",
          "text": [
            "Cluster 1: 195.0\n",
            "Cluster 2: 836.0\n",
            "Total sum 1031.0\n",
            "-----------\n",
            "Cluster 1: 158.0\n",
            "Cluster 2: 146.50666666666666\n",
            "Total sum 304.50666666666666\n",
            "-----------\n",
            "Cluster 1: 152.1322314049587\n",
            "Cluster 2: 66.5679012345679\n",
            "Total sum 218.7001326395266\n",
            "-----------\n",
            "Cluster 1: 151.33333333333331\n",
            "Cluster 2: 62.75\n",
            "Total sum 214.08333333333331\n",
            "-----------\n",
            "K-means result:\n",
            "Cluster 1: [[0.0, 0.0], [1.0, 0.0], [0.0, 1.0], [1.0, 1.0], [2.0, 1.0], [1.0, 2.0], [3.0, 2.0], [1.0, 7.0], [0.0, 7.0], [0.0, 8.0], [1.0, 8.0], [0.0, 9.0]]\n",
            "Cluster 2: [[2.0, 8.0], [2.0, 9.0], [6.0, 6.0], [7.0, 6.0], [8.0, 6.0], [7.0, 7.0], [8.0, 8.0], [9.0, 9.0]]\n"
          ],
          "name": "stdout"
        }
      ]
    },
    {
      "cell_type": "code",
      "metadata": {
        "colab": {
          "base_uri": "https://localhost:8080/"
        },
        "id": "MigmloIX0anP",
        "outputId": "d43cd752-d4b8-4fc0-cc13-383dd3a37f8c"
      },
      "source": [
        "standards_ = images_[4:6]\r\n",
        "clusters_ = k_mean(images_, standards_)\r\n",
        "\r\n",
        "print(f'K-means result:')\r\n",
        "for i, cluster in enumerate(clusters_):\r\n",
        "    print(f'Cluster {i + 1}: {[image.tolist() for image in cluster.images]}')"
      ],
      "execution_count": 18,
      "outputs": [
        {
          "output_type": "stream",
          "text": [
            "Cluster 1: 421.0\n",
            "Cluster 2: 263.0\n",
            "Total sum 684.0\n",
            "-----------\n",
            "Cluster 1: 246.47107438016528\n",
            "Cluster 2: 54.97530864197532\n",
            "Total sum 301.4463830221406\n",
            "-----------\n",
            "Cluster 1: 273.42361111111114\n",
            "Cluster 2: 14.296874999999998\n",
            "Total sum 287.72048611111114\n",
            "-----------\n",
            "Cluster 1: 271.2307692307692\n",
            "Cluster 2: 8.857142857142856\n",
            "Total sum 280.08791208791206\n",
            "-----------\n",
            "K-means result:\n",
            "Cluster 1: [[0.0, 0.0], [1.0, 0.0], [0.0, 1.0], [1.0, 1.0], [2.0, 1.0], [1.0, 2.0], [3.0, 2.0], [6.0, 6.0], [7.0, 6.0], [8.0, 6.0], [7.0, 7.0], [8.0, 8.0], [9.0, 9.0]]\n",
            "Cluster 2: [[1.0, 7.0], [0.0, 7.0], [0.0, 8.0], [1.0, 8.0], [0.0, 9.0], [2.0, 8.0], [2.0, 9.0]]\n"
          ],
          "name": "stdout"
        }
      ]
    },
    {
      "cell_type": "code",
      "metadata": {
        "colab": {
          "base_uri": "https://localhost:8080/"
        },
        "id": "36sO7b2b0hmf",
        "outputId": "ab9fa967-db70-4874-9658-d19db72eec90"
      },
      "source": [
        "standards_ = images_[5:8]\r\n",
        "clusters_ = k_mean(images_, standards_)\r\n",
        "\r\n",
        "print(f'K-means result:')\r\n",
        "for i, cluster in enumerate(clusters_):\r\n",
        "    print(f'Cluster {i + 1}: {[image.tolist() for image in cluster.images]}')"
      ],
      "execution_count": 19,
      "outputs": [
        {
          "output_type": "stream",
          "text": [
            "Cluster 1: 14.0\n",
            "Cluster 2: 98.0\n",
            "Cluster 3: 170.0\n",
            "Total sum 282.0\n",
            "-----------\n",
            "Cluster 1: 11.72222222222222\n",
            "Cluster 2: 51.0\n",
            "Cluster 3: 41.00000000000001\n",
            "Total sum 103.72222222222223\n",
            "-----------\n",
            "Cluster 1: 10.857142857142858\n",
            "Cluster 2: 13.5\n",
            "Cluster 3: 8.857142857142856\n",
            "Total sum 33.214285714285715\n",
            "-----------\n",
            "K-means result:\n",
            "Cluster 1: [[0.0, 0.0], [1.0, 0.0], [0.0, 1.0], [1.0, 1.0], [2.0, 1.0], [1.0, 2.0], [3.0, 2.0]]\n",
            "Cluster 2: [[6.0, 6.0], [7.0, 6.0], [8.0, 6.0], [7.0, 7.0], [8.0, 8.0], [9.0, 9.0]]\n",
            "Cluster 3: [[1.0, 7.0], [0.0, 7.0], [0.0, 8.0], [1.0, 8.0], [0.0, 9.0], [2.0, 8.0], [2.0, 9.0]]\n"
          ],
          "name": "stdout"
        }
      ]
    },
    {
      "cell_type": "markdown",
      "metadata": {
        "id": "fczMKcup0mUk"
      },
      "source": [
        "So, how we can see the practical application of this algorithm requires a significant number of experiments involving the selection of different values of the parameter k and different centers of clusters.\r\n",
        "\r\n",
        "Looking at the value of the quality criterion at the last iteration for different cases of choosing cluster centers, we can conclude that the smaller and relatively the same are these values, the more correct the result is."
      ]
    }
  ]
}